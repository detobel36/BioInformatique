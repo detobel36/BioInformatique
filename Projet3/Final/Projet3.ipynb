{
 "cells": [
  {
   "cell_type": "markdown",
   "metadata": {
    "collapsed": true
   },
   "source": [
    "# Projet 3 de BioInformatique\n",
    "Rémy Detobel - 000408013                \n",
    "[rdetobel@ulb.ac.be](mailto:rdetobel@ulb.ac.be)        \n",
    "\n",
    "------------------------"
   ]
  },
  {
   "cell_type": "markdown",
   "metadata": {},
   "source": [
    "## Table des matières\n",
    "\n",
    "- [Introduction](#Introduction)\n",
    "- [Méthode](#Méthode)\n",
    "    - [Données](#Données)\n",
    "    - [Implémentation](#Implémentation)\n",
    "        - [Import](#Import)\n",
    "        - [Profil](#Profil)\n",
    "        - [Align](#Align)\n",
    "- [Résultats](#Résultats)"
   ]
  },
  {
   "cell_type": "markdown",
   "metadata": {},
   "source": [
    "## Introduction\n",
    "Ce projet vise à construire un profil pour la famille de séquences WW.  Ce profil sera ensuite utilisé pour aligner des séquences (données par le professeur).  Ces résultats seront ensuite comparés aux données disponibles sur les bases de données en ligne.              \n",
    "`Python` par l'intermédiaire de `Jupyter` sera utilisé pour développer un outil permettant de calculer ce profil et de réaliser l'alignement grâce à celui-ci."
   ]
  },
  {
   "cell_type": "markdown",
   "metadata": {},
   "source": [
    "## Méthode\n",
    "#### Données\n",
    "Avant tout il nous faut récupérer la famille de séquences `WW`.  Pour cela on va utiliser la base de données [SMART](http://smart.embl.de) qui va nous permettre de récupérer le fichier [to-be-aligned.fasta](Data/to-be-aligned.fasta).  Ce fichier est ensuite aligné en utilisant les outils [MUSCLE](http://www.ebi.ac.uk/Tools/msa/muscle/) et [CLUSTAL Omega](http://www.ebi.ac.uk/Tools/msa/clustalo/) (il est également possible de le faire avec [TCoffee](http://www.ebi.ac.uk/Tools/msa/tcoffee/)).  Les résultats de ces alignements sont enregistrés dans des fichiers, respectivement: [msaresults-MUSCLE.fasta](Data/msaresults-MUSCLE.fasta) et [msaresults-CLUSTAL_Omega.fasta](Data/msaresults-CLUSTAL_Omega.fasta) (mais également [msaresults-TCoffee.fasta](Data/msaresults-TCoffee.fasta)).                 \n",
    "On récupère également la proportion totale de chaque acide aminé sur toutes les bases de données que contient SwissProt.  Pour cela on se rend sur le site [expasy](http://web.expasy.org) et plus précisément sur [cette page](http://web.expasy.org/docs/relnotes/relstat.html).  Les informations nous intéressant se trouvent au point 6.1. Ces données seront directement écrites dans le code vu l'impossibilité d'exporter correctement cette page (à noter également que les données sont en pourcentages)."
   ]
  },
  {
   "cell_type": "code",
   "execution_count": 1,
   "metadata": {
    "collapsed": true
   },
   "outputs": [],
   "source": [
    "SWISS_PROT = {'A':0.0826, 'R':0.0553, 'N':0.0406, 'D':0.0546, 'C':0.0137,\n",
    "              'Q':0.0393, 'E':0.0674, 'G':0.0708, 'H':0.0227, 'I':0.0593, \n",
    "              'L':0.0965, 'K':0.0582, 'M':0.0241, 'F':0.0386, 'P':0.0472, \n",
    "              'S':0.0660, 'T':0.0534, 'W':0.0109, 'Y':0.0292, 'V':0.0687}"
   ]
  },
  {
   "cell_type": "markdown",
   "metadata": {},
   "source": [
    "#### Implémentation\n",
    "\n",
    "###### Import\n",
    "Comme dit dans la partie [Données](#Données), il faut récupérer plusieurs informations dont certaines se trouvant dans des fichiers.             \n",
    "La fonction `importSeq` permet d'extraire une liste de séquences d'un fichier."
   ]
  },
  {
   "cell_type": "code",
   "execution_count": 2,
   "metadata": {
    "collapsed": true
   },
   "outputs": [],
   "source": [
    "def importSeq(nom_fichier):\n",
    "\n",
    "    # Ouverture du fichier\n",
    "    fichier = open(nom_fichier, 'r')\n",
    "\n",
    "    listeSeq = []\n",
    "    currentSeq = \"\"\n",
    "\n",
    "    for ligne in fichier:\n",
    "        ligne = ligne.strip()\n",
    "\n",
    "        if(len(ligne) > 0):\n",
    "            if(ligne[0] == '>'):\n",
    "                if(currentSeq != \"\"):\n",
    "                    listeSeq.append(currentSeq)\n",
    "\n",
    "                currentSeq = \"\"\n",
    "            else:\n",
    "                currentSeq += ligne\n",
    "\n",
    "    if(currentSeq != \"\"):\n",
    "        listeSeq.append(currentSeq)\n",
    "\n",
    "    return listeSeq"
   ]
  },
  {
   "cell_type": "markdown",
   "metadata": {},
   "source": [
    "###### Profil\n",
    "L'objet Profil représente un groupe de séquences et enregistre les propriétés générales d'une collection de séquences.  Dans le cas présent, il permet également de faire une abstraction du problème et plus précisément des calculs permettant de produire le PSSM.              \n",
    "À sa construction, l'objet profil parcourt toutes les séquences qu'il va représenter et calcule la fréquence de chaque acide aminé en fonction de la colonne dans laquelle il est présent:\n",
    "$$\\text{Frequence}(i, aa) = \\frac{\\text{Nbr aa à la colonne i}}{\\text{nbr séquence}}$$\n",
    "Où `aa` représente un acide aminé et `i` représente l'indice d'une colonne.         \n",
    "\n",
    "On va ensuite pondérer ces fréquences grâce aux données récupérées sur SwissProt ainsi que via des _pseudocounts_.      \n",
    "Les _pseudoscounts_ sont des constantes que l'on rajoute et qui permettent de donner une valeur même lorsqu'aucun acide aminé n'est présent pour une certaine colonne.  Concrètement, cela revient à faire ce calcul:\n",
    "$$q(u, a) = \\frac{\\alpha \\text{ fréquence}(u, a) + \\beta p_{a}}{\\alpha + \\beta}$$\n",
    "Où $\\beta$ et $\\alpha$ sont des _pseudocounts_ et valent:\n",
    "- $\\beta = \\sqrt{N_{seq}}$\n",
    "- $\\alpha = \\text{nombre de séquences ayant un AA à cette position}$\n",
    "- $p_{a}$ est la valeur présente dans SwissProt pour un acide aminé `a`\n",
    "           \n",
    "Les _pseudocounts_ représente la distribution antérieure du système avant de faire le calcul avec les données.  Ici nous nous basons sur le nombre de séquence, mais il est également possible de calculer les _pseudocounts_ en utilisant une matrice de substitution.  Cette technique n'a pas été mise en place ici pour des raisons de simplicité mais également car les résultats finaux n'étaient pas très différents.\n",
    "\n",
    "\n",
    "Enfin, il ne reste plus que le calcul du PSSM qui se fait via la formule suivante:\n",
    "$$m_{u, a} = \\log \\frac{q_{u, a}}{p_a}$$\n",
    "Où\n",
    "- $m_{u,a}$ est la valeur à mettre dans notre PSSM pour la colonne `u` et l'acide aminé `a`\n",
    "- $q_{u,a}$ est la probabilité calculée juste avant\n",
    "- $p_a$ est la valeur présente dans SwissProt (comme dans la précédente formule)\n",
    "\n",
    "Toutes ces opérations sont faites automatiquement à la création de l'objet Profil.  Lors de cette création, il est également possible de choisir la valeur qu'aura un trou/gap.            \n",
    "Pour récupérer le PSSM créé par ce Profil il suffit d'appeler la méthode `getPSSM` qui renverra une liste de dictionnaire calculée lors de la création de l'objet."
   ]
  },
  {
   "cell_type": "code",
   "execution_count": 3,
   "metadata": {
    "collapsed": false
   },
   "outputs": [],
   "source": [
    "from math import sqrt\n",
    "from math import log10\n",
    "# Just for design\n",
    "from IPython.display import display, HTML\n",
    "\n",
    "\n",
    "class Profil:\n",
    "    \n",
    "    # Initialisation en fonction d'une liste de séquences\n",
    "    def __init__(self, listeSeq, penalite = -1):\n",
    "        self.listeSeq = listeSeq\n",
    "        # Caclul du pseudoCount Beta\n",
    "        self.pseudoCountBeta = sqrt(len(listeSeq))\n",
    "        \n",
    "        self.penalite = penalite\n",
    "        \n",
    "        print(\"Nombre de séquence: \"+str(len(listeSeq)))\n",
    "        self.freqPosition()      # Calcul la fréquence de chaque aa à une colonne donnée\n",
    "        self.calculProbabilite() # Calcul de la probabilité d'avoir un aa à une colonne\n",
    "        self.calculPSSM()        # Calcul du PSSM\n",
    "\n",
    "    \n",
    "    # Nombre d'AA à une certaine colonne\n",
    "    def freqPosition(self):\n",
    "        self.totalElemCol = [0]\n",
    "\n",
    "        # Nombre de lettres par colonne\n",
    "        self.listeFreq = [{}]\n",
    "        \n",
    "        # Pour toutes les séquences\n",
    "        for seq in self.listeSeq:\n",
    "            col = 0 # Pour chaque colonne\n",
    "            for lettre in seq:\n",
    "                # Initialise les listes si c'est une nouvelle colonne\n",
    "                if(len(self.listeFreq) <= col):\n",
    "                    self.listeFreq.append({})\n",
    "                    self.totalElemCol.append(0)\n",
    "                \n",
    "                # Si la lettre est déjà présente\n",
    "                if(lettre in self.listeFreq[col]):\n",
    "                    self.listeFreq[col][lettre] += 1\n",
    "                    self.totalElemCol[col] += 1\n",
    "\n",
    "                elif(lettre != '-'): # Sinon\n",
    "                    self.listeFreq[col][lettre] = 1\n",
    "                    self.totalElemCol[col] += 1\n",
    "                    \n",
    "                col += 1\n",
    "\n",
    "        # Calcul de la fréquence\n",
    "        total = len(self.listeSeq) # Nombre total de séquences\n",
    "        for colonne in self.listeFreq:\n",
    "            for lettre in colonne:\n",
    "                colonne[lettre] = colonne[lettre]/total\n",
    "\n",
    "    \n",
    "    # Création d'une liste contenant toutes les valeurs des probabilités\n",
    "    def calculProbabilite(self):\n",
    "        self.listeProba = [{}]\n",
    "        col = 0\n",
    "        \n",
    "        for colonne in self.listeFreq:\n",
    "            if(len(self.listeProba) <= col):\n",
    "                self.listeProba.append({})\n",
    "\n",
    "            for lettre in SWISS_PROT:\n",
    "                self.listeProba[col][lettre] = self.makeCalcul(lettre, colonne, col)\n",
    "\n",
    "            col += 1\n",
    "\n",
    "    \n",
    "    # Calcul en tant que tel des probabilités\n",
    "    def makeCalcul(self, lettre, colonne, nbrColonne):\n",
    "        # \\frac{\\alpha F(i,j) + \\beta p(i)}{\\alpha + \\beta}\n",
    "\n",
    "        valeurColonne = 0\n",
    "        if(lettre in colonne):\n",
    "            valeurColonne = colonne[lettre]\n",
    "\n",
    "        pseudoCountAlpha = self.totalElemCol[nbrColonne]\n",
    "\n",
    "        # Numérateur\n",
    "        num = pseudoCountAlpha * valeurColonne + self.pseudoCountBeta * SWISS_PROT[lettre]\n",
    "        # Dénominateur\n",
    "        den = pseudoCountAlpha + self.pseudoCountBeta\n",
    "\n",
    "        return (num / den)\n",
    "\n",
    "\n",
    "    def calculPSSM(self):\n",
    "        # m(i,j) = log \\frac{q(i,j)}{p(i)}\n",
    "        self.pssm = [{}]\n",
    "\n",
    "        col = 0\n",
    "        for colonne in self.listeProba:\n",
    "            if(len(self.pssm) <= col):\n",
    "                self.pssm.append({})\n",
    "\n",
    "            for lettre in colonne:\n",
    "                self.pssm[col][lettre] = log10(colonne[lettre]/SWISS_PROT[lettre])\n",
    "            self.pssm[col]['-'] = self.penalite\n",
    "\n",
    "            col += 1\n",
    "            \n",
    "\n",
    "    def getPSSM(self):\n",
    "        return self.pssm;\n",
    "    \n",
    "    \n",
    "    # Permet de récupérer la séquence formée avec le AA ayant le plus de chance d'être trouvée\n",
    "    def getSeqType(self):\n",
    "        res = \"\"\n",
    "        for colonne in self.pssm:\n",
    "            res += max(colonne, key=colonne.get)\n",
    "            \n",
    "        return res\n",
    "    \n",
    "    def printSeqType(self):\n",
    "        seqType = self.getSeqType()\n",
    "        printRes = [\"\"]\n",
    "        printCol = [\"\"]\n",
    "        printValeur = [\"\"]\n",
    "\n",
    "        col = 1\n",
    "        i = 0\n",
    "        for seq in seqType:\n",
    "            if(col%20 == 0):\n",
    "                printRes.append(\"\")\n",
    "                printCol.append(\"\")\n",
    "                printValeur.append(\"\")\n",
    "                i += 1\n",
    "\n",
    "            printRes[i] += seq + \"  \"\n",
    "            printCol[i] += (str(col) + \" \" if col >= 10 else str(col) + \"  \")\n",
    "            if(self.pssm[col-1][seq] > 0.9):\n",
    "                printValeur[i] += \"+  \"\n",
    "            else:\n",
    "                printValeur[i] += \"   \"\n",
    "            col+=1\n",
    "\n",
    "        for j in range(len(printRes)):\n",
    "            print(printRes[j])\n",
    "            print(printCol[j])\n",
    "            print(printValeur[j])\n",
    "            print(\"\")\n",
    "    \n",
    "        "
   ]
  },
  {
   "cell_type": "markdown",
   "metadata": {},
   "source": [
    "Essayons maintenant de comparer un PSSM avec un WebLogo"
   ]
  },
  {
   "cell_type": "code",
   "execution_count": 4,
   "metadata": {
    "collapsed": false
   },
   "outputs": [
    {
     "name": "stdout",
     "output_type": "stream",
     "text": [
      "Création d'un profil pour MUSCLE avec une pénalité de 0.2\n",
      "Nombre de séquence: 247\n",
      "\n",
      "P  L  P  P  G  W  E  M  R  W  D  R  P  D  C  G  R  V  Y  \n",
      "1  2  3  4  5  6  7  8  9  10 11 12 13 14 15 16 17 18 19 \n",
      "      +     +  +  +           +              +        +  \n",
      "\n",
      "Y  Y  N  F  T  L  V  A  Q  A  H  S  S  Q  V  L  C  G  E  N  \n",
      "20 21 22 23 24 25 26 27 28 29 30 31 32 33 34 35 36 37 38 39 \n",
      "+     +                                                     \n",
      "\n",
      "D  T  R  E  S  V  P  S  H  N  T  R  T  T  Q  W  E  H  P  R  \n",
      "40 41 42 43 44 45 46 47 48 49 50 51 52 53 54 55 56 57 58 59 \n",
      "                        +     +        +     +        +     \n",
      "\n",
      "W  \n",
      "60 \n",
      "   \n",
      "\n"
     ]
    }
   ],
   "source": [
    "print(\"Création d'un profil pour MUSCLE avec une pénalité de 0.2\")\n",
    "profilMuscle = Profil(importSeq(\"Data/msaresults-MUSCLE.fasta\"), -0.2)\n",
    "print(\"\") # Ajout d'un espace\n",
    "\n",
    "profilMuscle.printSeqType()"
   ]
  },
  {
   "cell_type": "markdown",
   "metadata": {},
   "source": [
    "Voici le WebLOGO de Muscle:\n",
    "![WebLogoMuscle](./Images/MUSCLE_weblogo.png)\n",
    "\n",
    "On remarque bien que la séquence type concorde parfaitement avec le web logo.  Cela se voit très fortement en position 2, 3, 4 et 5 par exemple où l'on trouve respectivement L, P, G et W.\n",
    "      \n",
    "Les `+` représentent les lettres qui ont un PSSM supérieur à 0.9.  On remarque bien que le WebLogo est fidèle à ces indications.      \n",
    "\n",
    "\n",
    "Cette comparaison a été faite avec le fichier MUSCLE, mais il est également possible de le faire avec Clustal Omega."
   ]
  },
  {
   "cell_type": "code",
   "execution_count": 5,
   "metadata": {
    "collapsed": false
   },
   "outputs": [
    {
     "name": "stdout",
     "output_type": "stream",
     "text": [
      "Création d'un profil pour Clustal Omega avec une pénalité de 0.2\n",
      "Nombre de séquence: 247\n",
      "\n",
      "P  L  P  P  G  W  E  M  R  W  D  P  S  N  G  R  V  Y  Y  \n",
      "1  2  3  4  5  6  7  8  9  10 11 12 13 14 15 16 17 18 19 \n",
      "      +     +  +  +           +           +        +  +  \n",
      "\n",
      "Y  N  H  N  T  Q  K  V  C  G  E  N  W  T  R  L  G  S  L  Q  \n",
      "20 21 22 23 24 25 26 27 28 29 30 31 32 33 34 35 36 37 38 39 \n",
      "   +  +     +                                               \n",
      "\n",
      "E  S  V  P  S  Y  N  H  I  N  R  T  T  Q  W  E  H  P  R  W  \n",
      "40 41 42 43 44 45 46 47 48 49 50 51 52 53 54 55 56 57 58 59 \n",
      "                                    +     +        +        \n",
      "\n"
     ]
    }
   ],
   "source": [
    "print(\"Création d'un profil pour Clustal Omega avec une pénalité de 0.2\")\n",
    "profilClustal = Profil(importSeq(\"Data/msaresults-CLUSTAL_Omega.fasta\"), -0.2)\n",
    "print(\"\") # Ajout d'un espace\n",
    "\n",
    "profilClustal.printSeqType()"
   ]
  },
  {
   "cell_type": "markdown",
   "metadata": {},
   "source": [
    "![Clustal_Omega](./Images/Omega_weblogo.png)\n",
    "Là encore, on remarque que les lettre les plus grandes sont bien celles ayant la plus grande probabilité dans le PSSM.               \n",
    "          \n",
    "Cependant, il est intéressant de comparer les deux PSSM entre eux.  On peut voir beaucoup de similarités dans les deux WebLogo notamment au début et à la fin.\n",
    "\n",
    "\n",
    "Il est également intéressant de le comparer avec le `HHM` de la famille WW.\n",
    "![HHM_logo](./Images/HHM_Logo.png)\n",
    "\n",
    "Ce HHM contient bien tous les éléments étants communs avec Omega et Clustal.  On remarque plusieurs grandes lettres qui sont également présentes dans les deux logos précédents comme par exemple le `L P G W D G Y Y N T W P` qui se trouvent respectivement en position: 1, 2, 4, 5, 10, 14, 17, 18, 20, 23, 28 et 31.\n",
    "        \n",
    "Au niveau des différences on peut remarquer que le Muscle néglige le H en position 23, tandis que Omega l'exagère (en position 22) par rapport au HHM."
   ]
  },
  {
   "cell_type": "markdown",
   "metadata": {},
   "source": [
    "###### Align\n",
    "La class `Align` permet de fractionner le code afin de rendre l'outil plus lisibile.  `Align` permet donc d'aligner une chaine d'acides aminés en fonction du PSSM.  Ces deux informations sont donc passées en paramètre lors de la création de l'objet.  Celui-ci s'occupe ensuite de faire tous les calculs permettants d'aligner cette séquence.   \n",
    "      \n",
    "La création de l'objet commence donc par l'initialisation d'une matrice dont le nombre de lignes correspond à la taille de la séquence à alignée plus un (la première ligne étant une ligne utilisée pour remplir la matrice).  Le nombre de colonnes, lui, sera dépendant du nombre de colonnes dans le PSSM plus un (pour les mêmes raisons que les lignes).  La première  ligne et la première colonne sont donc initialisés avec des zéros.  En effet, c'est la méthode à suivre lorsque l'on veut faire un alignement local comme ici.       \n",
    "Une fois la matrice créée on va la remplir.  Pour ce faire, la technique utilisée sera comparable au premier projet réalisé pour ce cours, à savoir calculer la valeur d'une case `i,j` en fonction des cases au-dessus, à gauche et en diagonale.  Mathématiquement cela se présente de la manière suivante:         \n",
    "Il faut faire le maximum entre:\n",
    "1. $S(i-1, j-1) + PSSM(j, seq[i])$               \n",
    "  _Calculé depuis la diagonale + pssm_\n",
    "2. $S(i-1, j) + PSSM(j, '-')$               \n",
    "  _Calculé grâce à la case au-dessus + pssm_\n",
    "3. $S(i, j-1) + PSSM(j-1, '-')$                \n",
    "  _Calculé grâce à la case à gauche + pssm_\n",
    "\n",
    "Le résultat ayant la plus grande valeur est donc utilisé pour la case $(i,j)$.           \n",
    "Pendant que l'on remplit la matrice, une seconde matrice est également complétée.  Il s'agit d'une matrice stockant les déplacements possibles à partir d'une case.  En effet, lorsque l'on utilise une des 3 formules ci-dessus on effectue un déplacement:\n",
    "1. En diagonale (_noté D_)\n",
    "2. Verticalement (_noté V_)\n",
    "3. Horizontalement (_noté H_)\n",
    "\n",
    "Cette matrice de déplacement nous permettra d'éviter de faire des calculs plus tard.       \n",
    "Lors de la construction on enregistre également les coordonnées de la valeur la plus grande.  En effet, comme il s'agit d'un alignement local, le backtracking permettant de trouver l'alignement se fera à partir de la valeur la plus grande de la matrice.  L'enregistrer ici permet donc d'éviter de reparcourir toute la matrice par la suite.            \n",
    "\n",
    "Une fois tous les calculs faits, il ne reste plus qu'à parcourir la matrice de déplacement en partant des cordonnées de la plus grande valeur de la matrice (attention, il est possible que la valeur la plus grande se retrouve plusieurs fois dans la matrice et dans ce cas précis, plusieurs alignements sont alors possibles).   "
   ]
  },
  {
   "cell_type": "code",
   "execution_count": 6,
   "metadata": {
    "collapsed": false
   },
   "outputs": [],
   "source": [
    "class Align:\n",
    "\n",
    "    # Création de l'objet\n",
    "    def __init__(self, chaineA, pssm, debug = False):\n",
    "\n",
    "        # Initialisation des variables\n",
    "        self.chaineA = chaineA\n",
    "        self.pssm = pssm\n",
    "        self.debug = debug\n",
    "        \n",
    "        # Initialisation des matrices de calcul\n",
    "        self.S = []\n",
    "        # Creation d'une matrice ou la liste en ij permettra d'indiquer dans quel\n",
    "        # direction on peut se déplacer (Horizontal, Vertical ou Diagonale)\n",
    "        self.deplacement = []\n",
    "        \n",
    "        # Valeur maximum du tableau\n",
    "        self.maxValue = 0\n",
    "        # Coordonnées ou l'on peut trouver cette valeur\n",
    "        self.maxI = [] \n",
    "        self.maxJ = []\n",
    "\n",
    "        self.initMatrice()       # Initialisation de la matrice\n",
    "        self.remplisageMatrice() # Remplissage de la matrice\n",
    "        \n",
    "        self.res = []   # Résultat final\n",
    "        self.minIJ = [] # Coordonnées les plus petites atteintes\n",
    "        \n",
    "        # Parcours de la matrice pour trouver le plus court chemin\n",
    "        for allMax in range(len(self.maxI)): # Parcourt toutes les valeurs maximum\n",
    "            self.res += (self.findMinPath(self.maxI[allMax], self.maxJ[allMax], [], []))\n",
    "\n",
    "\n",
    "    # Permet d'initialiser la matrice\n",
    "    def initMatrice(self):\n",
    "        \n",
    "        for i in range(len(self.chaineA)+1):\n",
    "            # Initialisation des lignes\n",
    "            self.S.append([])\n",
    "            self.deplacement.append([])\n",
    "\n",
    "            for j in range(len(self.pssm)+1):\n",
    "                if(i == 0): # Si l'on est sur la première ligne\n",
    "                    # Initialisation de la matrice\n",
    "                    self.S[i].append(0)\n",
    "                    self.deplacement[i].append([])\n",
    "\n",
    "                elif(j == 0): # Si l'on est sur la première colonne\n",
    "                    # Initialisation de la matrice\n",
    "                    self.S[i].append(0)\n",
    "                    self.deplacement[i].append([])\n",
    "                    \n",
    "                else: # Sinon on remplit juste la liste des deplacements\n",
    "                    self.deplacement[i].append([])\n",
    "\n",
    "\n",
    "    # Permet de remplir la matrice\n",
    "    def remplisageMatrice(self):\n",
    "        # On parcourt toute la matrice\n",
    "        for i in range(1, len(self.chaineA)+1):        # ligne\n",
    "            for j in range(1, len(self.pssm)+1): # colonne\n",
    "\n",
    "                valeur1 = self.S[i-1][j-1] + self.pssm[j-1][self.chaineA[i-1]]\n",
    "                valeur2 = self.S[i-1][j] + self.pssm[j-1]['-']\n",
    "                valeur3 = self.S[i][j-1] + self.pssm[j-2]['-']\n",
    "\n",
    "                maximum = max(valeur1, valeur2, valeur3, 0)\n",
    "\n",
    "                self.S[i].append(maximum)\n",
    "\n",
    "                if(self.S[i][j] == valeur1):\n",
    "                    self.deplacement[i-1][j-1].append(\"D\") # Diagonale\n",
    "\n",
    "                if(self.S[i][j] == valeur2):\n",
    "                    self.deplacement[i-1][j].append(\"V\") # Vertical\n",
    "\n",
    "                if(self.S[i][j] == valeur3):\n",
    "                    self.deplacement[i][j-1].append(\"H\") # Horizontal\n",
    "\n",
    "\n",
    "                # Enregistrement de la valeur maximum\n",
    "                # Si la valeur est la même que le max actuel\n",
    "                if(self.maxValue == maximum):\n",
    "                    self.maxI.append(i)\n",
    "                    self.maxJ.append(j)\n",
    "\n",
    "                # Si le max est plus grand que la valeur actuelle\n",
    "                elif(maximum > self.maxValue):\n",
    "                    self.maxI = [i]\n",
    "                    self.maxJ = [j]\n",
    "                    self.maxValue = maximum\n",
    "                \n",
    "\n",
    "        \n",
    "        if(self.debug): # Si on veut débug, on affiche les matrices intermédiaires\n",
    "            self.printMatrice(self.S)\n",
    "            print()\n",
    "            self.printMatrice(self.deplacement)\n",
    "    \n",
    "    \n",
    "\n",
    "\n",
    "    # Permet d'afficher une matrice\n",
    "    def printMatrice(self, matrice):\n",
    "        for i in range(len(matrice)):\n",
    "            # Ligne avec les indices\n",
    "            if(i == 0):\n",
    "                print(\"     \", end=\"\")\n",
    "                for j in range(len(matrice[i])):\n",
    "                    print('{:4}|'.format(j), end=\"\")\n",
    "                print()\n",
    "            \n",
    "            # Affichage des lignes\n",
    "            for j in range(len(matrice[i])):\n",
    "                if(j == 0):\n",
    "                    # Affiche l'indice\n",
    "                    print('{:4}|'.format(i), end=\"\")\n",
    "\n",
    "                if(isinstance(matrice[i][j], list)):\n",
    "                    print('{:4}|'.format(\"\".join(matrice[i][j])), end=\"\")\n",
    "                else:\n",
    "                    print('{:4}|'.format(str(round(matrice[i][j], 2))), end=\"\")\n",
    "            print() # Retour à la ligne\n",
    "\n",
    "    \n",
    "    # Permet de trouver le(s) bon(s) chemin(s) dans la matrice\n",
    "    def findMinPath(self, i, j, current=[], sol=[]):\n",
    "        if(i == 0 and j == 0): # Si on a fini le parcours\n",
    "            sol.append(list(reversed(current)))\n",
    "            self.minIJ.append((i, j))\n",
    "\n",
    "        else:\n",
    "            continuer = False # Est-il possible de continuer\n",
    "            \n",
    "            # Si on peut encore monter et que ce déplacement est possible\n",
    "            if(i > 0 and \"V\" in self.deplacement[i-1][j]):\n",
    "                continuer = True\n",
    "                current.append(\"V\") # Construction d'une solution\n",
    "                sol = self.findMinPath(i-1, j, current[:], sol)\n",
    "                current = current[:-1] # Déconstruction\n",
    "            \n",
    "            # Test à gauche cette fois\n",
    "            if(j > 0 and \"H\" in self.deplacement[i][j-1]):\n",
    "                continuer = True\n",
    "                current.append(\"H\")\n",
    "                sol = self.findMinPath(i, j-1, current[:], sol)\n",
    "                current = current[:-1]\n",
    "\n",
    "            # Et enfin en diagonale\n",
    "            if(i > 0 and j > 0 and \"D\" in self.deplacement[i-1][j-1]):\n",
    "                continuer = True\n",
    "                current.append(\"D\")\n",
    "                sol = self.findMinPath(i-1, j-1, current[:], sol)\n",
    "                current = current[:-1]\n",
    "            \n",
    "            # Si il n'est plus possible de continuer et qu'on est en local\n",
    "            if(not continuer):\n",
    "                # On enregistre donc la solution\n",
    "                sol.append(list(reversed(current)))\n",
    "                self.minIJ.append((i, j))\n",
    "\n",
    "        return sol\n",
    "\n",
    "\n",
    "    # Permet d'afficher toutes les solutions\n",
    "    def printResult(self):\n",
    "        # Parcours de toutes les solutions\n",
    "        for indexDeplacement in range(len(self.res)):\n",
    "\n",
    "            position = [\"\"]\n",
    "            resSeq = [\"       \"]\n",
    "            modification = [\"       \"]\n",
    "            i = 0\n",
    "            total = 0\n",
    "            \n",
    "\n",
    "            # colonne et ligne de début à 0 sauf si on est en local\n",
    "            col, ligne = self.minIJ[indexDeplacement]\n",
    "\n",
    "            position[0] += str(col)+\" |\"\n",
    "            \n",
    "            # On parcourt le résultat\n",
    "            for dep in self.res[indexDeplacement]:\n",
    "                \n",
    "                if(dep == \"D\"):\n",
    "                    resSeq[i] += self.chaineA[col-1]\n",
    "                    modification[i] += \" \"\n",
    "                    # On déplace le curseur\n",
    "                    ligne += 1\n",
    "                    col += 1\n",
    "\n",
    "                elif(dep == \"V\"):\n",
    "                    resSeq[i] += self.chaineA[col-1]\n",
    "                    modification[i] += \"+\"\n",
    "                    col += 1\n",
    "\n",
    "                elif(dep == \"H\"):\n",
    "                    resSeq[i] += \" \"\n",
    "                    modification[i] += \"-\"\n",
    "                    ligne += 1\n",
    "                    \n",
    "                \n",
    "                if(total > 0 and ((col-1) % 10 == 0) and dep != 'H'):\n",
    "                    if(col-1 < 10):\n",
    "                        position[i] += \"  \" + str(col-1)\n",
    "                    elif(col < 100):\n",
    "                        position[i] += \" \" + str(col-1)\n",
    "                    else:\n",
    "                        position[i] += str(col-1)\n",
    "                        \n",
    "                    if((col-1)%20 == 0):\n",
    "                        position.append(\"\")\n",
    "                        resSeq.append(\"  \")\n",
    "                        modification.append(\"  \")\n",
    "                        i += 1\n",
    "                    else:\n",
    "                        position[i] += \" \"\n",
    "                        resSeq[i] += \"   \"\n",
    "                        modification[i] += \"   \"\n",
    "                        \n",
    "                else:\n",
    "                    position[i] += \" \"\n",
    "\n",
    "\n",
    "                total += 1\n",
    "\n",
    "            position[i] += \"   | \"+str(col)\n",
    "\n",
    "            # Affichage des solutions\n",
    "            for j in range(len(position)):\n",
    "                print(position[j])\n",
    "                print(resSeq[j])\n",
    "                print(modification[j])\n",
    "                print(\"\")\n",
    "                \n",
    "            if(indexDeplacement < (len(self.res)-1)):\n",
    "                display(HTML('<hr />'))\n",
    "            \n",
    "\n",
    "    def getResult(self):\n",
    "        return self.res\n",
    "    "
   ]
  },
  {
   "cell_type": "markdown",
   "metadata": {
    "collapsed": true
   },
   "source": [
    "## Résultats\n",
    "\n",
    "Maintenant que toutes les structures ont été définies, nous pouvons charger le fichier `test.fasta` qui contient deux séquences:"
   ]
  },
  {
   "cell_type": "code",
   "execution_count": 7,
   "metadata": {
    "collapsed": false
   },
   "outputs": [],
   "source": [
    "testSequence = importSeq(\"Data/test.fasta\")"
   ]
  },
  {
   "cell_type": "markdown",
   "metadata": {},
   "source": [
    "Ces deux séquences seront alignées une première fois avec le PSSM de Muscle et ensuite avec le PSSM contruit grâce à Clustal.  Ces deux PSSM ont été construits précédemment (dans la section [Profil](#Profil))."
   ]
  },
  {
   "cell_type": "code",
   "execution_count": 8,
   "metadata": {
    "collapsed": false
   },
   "outputs": [
    {
     "name": "stdout",
     "output_type": "stream",
     "text": [
      "141 |         150             160\n",
      "       VPLPPGWEMA   K TP SGQ RYFL\n",
      "                     -  - + -    \n",
      "\n",
      "                                  170      | 173\n",
      "                           NHIDQTTTWQ   DP\n",
      "  -------------------------               \n",
      "\n"
     ]
    }
   ],
   "source": [
    "alignMuscleUn = Align(testSequence[0], profilMuscle.getPSSM())\n",
    "alignMuscleUn.printResult()"
   ]
  },
  {
   "cell_type": "code",
   "execution_count": 9,
   "metadata": {
    "collapsed": false
   },
   "outputs": [
    {
     "name": "stdout",
     "output_type": "stream",
     "text": [
      "141 |         150            160\n",
      "       VPLPPGWEMA   KTP SGQ RYFL\n",
      "                       - + -    \n",
      "\n",
      "                                  170      | 173\n",
      "  NH           I              DQTTTWQ   DP\n",
      "    ----------- --------------            \n",
      "\n"
     ]
    },
    {
     "data": {
      "text/html": [
       "<hr />"
      ],
      "text/plain": [
       "<IPython.core.display.HTML object>"
      ]
     },
     "metadata": {},
     "output_type": "display_data"
    },
    {
     "name": "stdout",
     "output_type": "stream",
     "text": [
      "141 |         150            160\n",
      "       VPLPPGWEMA   KTP SGQ RYFL\n",
      "                       - + -    \n",
      "\n",
      "                                  170      | 173\n",
      "  NH            I             DQTTTWQ   DP\n",
      "    ------------ -------------            \n",
      "\n"
     ]
    },
    {
     "data": {
      "text/html": [
       "<hr />"
      ],
      "text/plain": [
       "<IPython.core.display.HTML object>"
      ]
     },
     "metadata": {},
     "output_type": "display_data"
    },
    {
     "name": "stdout",
     "output_type": "stream",
     "text": [
      "141 |         150            160\n",
      "       VPLPPGWEMA   KTP SGQ RYFL\n",
      "                       - + -    \n",
      "\n",
      "                                  170      | 173\n",
      "  NH             I            DQTTTWQ   DP\n",
      "    ------------- ------------            \n",
      "\n"
     ]
    },
    {
     "data": {
      "text/html": [
       "<hr />"
      ],
      "text/plain": [
       "<IPython.core.display.HTML object>"
      ]
     },
     "metadata": {},
     "output_type": "display_data"
    },
    {
     "name": "stdout",
     "output_type": "stream",
     "text": [
      "141 |         150            160\n",
      "       VPLPPGWEMA   KTP SGQ RYFL\n",
      "                       - + -    \n",
      "\n",
      "                                  170      | 173\n",
      "  NH              I           DQTTTWQ   DP\n",
      "    -------------- -----------            \n",
      "\n"
     ]
    },
    {
     "data": {
      "text/html": [
       "<hr />"
      ],
      "text/plain": [
       "<IPython.core.display.HTML object>"
      ]
     },
     "metadata": {},
     "output_type": "display_data"
    },
    {
     "name": "stdout",
     "output_type": "stream",
     "text": [
      "141 |         150            160\n",
      "       VPLPPGWEMA   KTP SGQ RYFL\n",
      "                       - + -    \n",
      "\n",
      "                                  170      | 173\n",
      "  NH               I          DQTTTWQ   DP\n",
      "    --------------- ----------            \n",
      "\n"
     ]
    },
    {
     "data": {
      "text/html": [
       "<hr />"
      ],
      "text/plain": [
       "<IPython.core.display.HTML object>"
      ]
     },
     "metadata": {},
     "output_type": "display_data"
    },
    {
     "name": "stdout",
     "output_type": "stream",
     "text": [
      "141 |         150            160\n",
      "       VPLPPGWEMA   KTP SGQ RYFL\n",
      "                       - + -    \n",
      "\n",
      "                                  170      | 173\n",
      "  NH                      I   DQTTTWQ   DP\n",
      "    ---------------------- ---            \n",
      "\n"
     ]
    }
   ],
   "source": [
    "alignClustalUn = Align(testSequence[0], profilClustal.getPSSM())\n",
    "alignClustalUn.printResult()"
   ]
  },
  {
   "cell_type": "markdown",
   "metadata": {},
   "source": [
    "On voit que l'alignement ne change pas beaucoup entre MUSCLE et Clustal Omega.  Ils commencent tous les deux au 141ème acide aminé et finissent au 173ème.           \n",
    "On peut également comparer ces résultats à ceux disponibles sur Uniprot.  Plus précisément [ici](http://www.uniprot.org/blast/?about=D6C652[141-174]&key=Domain) où l'on peut voir que la séquence `D6C652` à des points communs avec WW entre sa 141ème et ça 174ème protéine:\n",
    "```\n",
    ">sp|D6C652|141-174\n",
    "VPLPPGWEMAKTPSGQRYFLNHIDQTTTWQDPRK\n",
    "```\n",
    "Notre résultat n'est donc pas très éloigné.\n",
    "\n",
    "**Notons cependant** que nous avons pris une pénalité très petite.  Cela est dû aux variables de SUISSPROT ainsi que des autres valeurs utilisées pour calculer les PSSM qui utilisent des logarithmes.         \n",
    "\n",
    "Sur uniprot on peut remarquer qu'une autre partie de la séquence à des points communs avec la famille WW.  Pour trouver ce second alignement avec notre PSSM il faudrait appliquer un alignement sous optimal (en mettant toutes les valeurs trouvées pour faire l'alignement à zéro et en refaisant le backtracking).  Cette option n'a pas été développée car la structure actuelle du code ne permet pas son implémentation de manière simple (en effet, la matrice de déplacement est calculée à la construction de la matrice.  Faire l'alignement sous optimal implique de recalculer également cette matrice, ce qui complexifie fortement l'algorithme si l'on ne veut pas repartir d'une base vide)."
   ]
  },
  {
   "cell_type": "code",
   "execution_count": 10,
   "metadata": {
    "collapsed": false,
    "scrolled": false
   },
   "outputs": [
    {
     "name": "stdout",
     "output_type": "stream",
     "text": [
      "460 |          470                                      480\n",
      "       GPLPPGWEERT   H  T DGRVFFI                         N\n",
      "                 +    -- -       ------------------------- \n",
      "\n",
      "          490      | 493\n",
      "  H NIKKTQWED   PR\n",
      "   -+             \n",
      "\n"
     ]
    },
    {
     "data": {
      "text/html": [
       "<hr />"
      ],
      "text/plain": [
       "<IPython.core.display.HTML object>"
      ]
     },
     "metadata": {},
     "output_type": "display_data"
    },
    {
     "name": "stdout",
     "output_type": "stream",
     "text": [
      "460 |          470                                      480\n",
      "       GPLPPGWEERT   H  T DGRVFFI                         N\n",
      "                 +    -- -       ------------------------- \n",
      "\n",
      "          490      | 493\n",
      "  HN IKKTQWED   PR\n",
      "   +-             \n",
      "\n"
     ]
    }
   ],
   "source": [
    "alignMuscleDeux = Align(testSequence[1], profilMuscle.getPSSM())\n",
    "alignMuscleDeux.printResult()"
   ]
  },
  {
   "cell_type": "code",
   "execution_count": 11,
   "metadata": {
    "collapsed": false
   },
   "outputs": [
    {
     "name": "stdout",
     "output_type": "stream",
     "text": [
      "460 |          470            480\n",
      "       GPLPPGWEERT   H  TDGRVFFIN\n",
      "                 +    --         \n",
      "\n",
      "                                  490      | 493\n",
      "  H           N              IKKTQWED   PR\n",
      "   ----------- --------------             \n",
      "\n"
     ]
    },
    {
     "data": {
      "text/html": [
       "<hr />"
      ],
      "text/plain": [
       "<IPython.core.display.HTML object>"
      ]
     },
     "metadata": {},
     "output_type": "display_data"
    },
    {
     "name": "stdout",
     "output_type": "stream",
     "text": [
      "460 |          470            480\n",
      "       GPLPPGWEERT   H  TDGRVFFIN\n",
      "                 +    --         \n",
      "\n",
      "                                  490      | 493\n",
      "  H            N             IKKTQWED   PR\n",
      "   ------------ -------------             \n",
      "\n"
     ]
    },
    {
     "data": {
      "text/html": [
       "<hr />"
      ],
      "text/plain": [
       "<IPython.core.display.HTML object>"
      ]
     },
     "metadata": {},
     "output_type": "display_data"
    },
    {
     "name": "stdout",
     "output_type": "stream",
     "text": [
      "460 |          470            480\n",
      "       GPLPPGWEERT   H  TDGRVFFIN\n",
      "                 +    --         \n",
      "\n",
      "                                  490      | 493\n",
      "  H             N            IKKTQWED   PR\n",
      "   ------------- ------------             \n",
      "\n"
     ]
    },
    {
     "data": {
      "text/html": [
       "<hr />"
      ],
      "text/plain": [
       "<IPython.core.display.HTML object>"
      ]
     },
     "metadata": {},
     "output_type": "display_data"
    },
    {
     "name": "stdout",
     "output_type": "stream",
     "text": [
      "460 |          470            480\n",
      "       GPLPPGWEERT   H  TDGRVFFIN\n",
      "                 +    --         \n",
      "\n",
      "                                  490      | 493\n",
      "  H              N           IKKTQWED   PR\n",
      "   -------------- -----------             \n",
      "\n"
     ]
    },
    {
     "data": {
      "text/html": [
       "<hr />"
      ],
      "text/plain": [
       "<IPython.core.display.HTML object>"
      ]
     },
     "metadata": {},
     "output_type": "display_data"
    },
    {
     "name": "stdout",
     "output_type": "stream",
     "text": [
      "460 |          470            480\n",
      "       GPLPPGWEERT   H  TDGRVFFIN\n",
      "                 +    --         \n",
      "\n",
      "                                  490      | 493\n",
      "  H               N          IKKTQWED   PR\n",
      "   --------------- ----------             \n",
      "\n"
     ]
    },
    {
     "data": {
      "text/html": [
       "<hr />"
      ],
      "text/plain": [
       "<IPython.core.display.HTML object>"
      ]
     },
     "metadata": {},
     "output_type": "display_data"
    },
    {
     "name": "stdout",
     "output_type": "stream",
     "text": [
      "460 |          470            480\n",
      "       GPLPPGWEERT   H  TDGRVFFIN\n",
      "                 +    --         \n",
      "\n",
      "                                  490      | 493\n",
      "  H                      N   IKKTQWED   PR\n",
      "   ---------------------- ---             \n",
      "\n"
     ]
    }
   ],
   "source": [
    "alignClustalUn = Align(testSequence[1], profilClustal.getPSSM())\n",
    "alignClustalUn.printResult()"
   ]
  },
  {
   "cell_type": "markdown",
   "metadata": {},
   "source": [
    "Les tests précédents ont été réalisés en utilisant la seconde séquence présente dans le fichier de test.  Il s'agit de la séquence `P46935`.         \n",
    "Comme pour la séquence précédente, on remarque que l'alignement est presque le même pour Clustal que pour Muscle.  Il se rapproche également très fort de ce qui se trouve sur [uniprot](http://www.uniprot.org/blast/?about=P46935[460-493]&key=Domain), à savoir:\n",
    "```\n",
    ">sp|P46935|460-493\n",
    "GPLPPGWEERTHTDGRVFFINHNIKKTQWEDPRL\n",
    "```\n",
    "Comme pour l'alignement précédent, uniprot nous informe que d'autres parties de la séquence ont des points communs avec la famille WW.  Pour les trouver il faudrait donc (comme pour la séquence précédente) faire un alignement sous-optimal.        \n",
    "            \n",
    "Le code ci-dessus rajoute des `-` et des `+`.  Il s'agit en fait de la traduction de déplacements verticaux ou horizontaux.  Les `-` faisant référence à un élément ayant disparu entre la séquence qui est alignée et le modèle.  Le `+` indique les acides aminés ayant été rajoutés dans la séquence par rapport au modèle."
   ]
  }
 ],
 "metadata": {
  "kernelspec": {
   "display_name": "Python 3",
   "language": "python",
   "name": "python3"
  },
  "language_info": {
   "codemirror_mode": {
    "name": "ipython",
    "version": 3
   },
   "file_extension": ".py",
   "mimetype": "text/x-python",
   "name": "python",
   "nbconvert_exporter": "python",
   "pygments_lexer": "ipython3",
   "version": "3.5.2"
  }
 },
 "nbformat": 4,
 "nbformat_minor": 1
}
